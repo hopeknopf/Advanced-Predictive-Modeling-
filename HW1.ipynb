{
 "cells": [
  {
   "cell_type": "markdown",
   "metadata": {},
   "source": [
    "\n",
    "# <p style=\"text-align: center;\">MIS 382N: ADVANCED PREDICTIVE MODELING - MSBA</p>\n",
    "# <p style=\"text-align: center;\">Assignment 1</p>\n",
    "## <p style=\"text-align: center;\">Total points: 80</p>\n",
    "## <p style=\"text-align: center;\">Due: Tuesday, September 18 submitted via Canvas by 11:59 pm</p>\n",
    "\n",
    "Your homework should be written in a **Jupyter notebook**. You may work in groups of two if you wish. Only one student per team needs to submit the assignment on Canvas.  But be sure to include name and UTEID for both students.  Homework groups will be created and managed through Canvas, so please do not arbitrarily change your homework group. If you do change, let the TA know.  \n",
    "\n",
    "Also, please make sure your code runs and the graphics (and anything else) are displayed in your notebook before submitting. (%matplotlib inline)"
   ]
  },
  {
   "cell_type": "markdown",
   "metadata": {},
   "source": [
    "## Hope Knopf, UTEID: hk23735"
   ]
  },
  {
   "cell_type": "markdown",
   "metadata": {},
   "source": [
    "# Question 1: Challenges in Data Science (10 pts)\n",
    "\n",
    "Refer to the Domino guide under Modules --> Additional Resources\n",
    "\n",
    "Section 2 describes 8 Challenges. You may have personally encountered or heard of somebody else who encountered some of these challenge. If so,  please write 1-2 paragraphs on what situation was encountered and how it mapped into one the mentioned challenges. If not, think of a hypothetical case and do the same exercise. \n",
    "\n",
    "\n",
    "## Answer\n",
    "\n",
    "\n"
   ]
  },
  {
   "cell_type": "markdown",
   "metadata": {},
   "source": [
    "    I think that solving the wrong problem in data science is one the most pervasive issues in the technology industry. Because data scientists are generally inquisitive, curious people driven by challenge, they can often dive into data exploration without first asking what is the purpose of this exploration and what problem do we need to solve.  This leads to enormous waste of time, money and resources from the perspective of the company and a general misurstanding of the efficacy of data science.  One can imagine many examples of this occuring with an over-zealous team of data scientists. For instance, say an insurance company wants to learn what customers are leaving their services, what attributes those customers possess, and why they are leaving.  They employ a team of data scientists to provide insights on this problem based on the vast amount of data they have on their customers and their transactions with the insurance company. The data scientists dive into the cleaning and analysis of this large amount of data.  They may end up finding all kinds of different patterns and insights in the data, that they explore with gusto.  They end up finding out a lot about the patterns of the customers with the highest insurance plans and the risk accounted for those customers.  They do not, however, find any intelligence about why customers churn and go to a different insurance company.  While they have found interesting information from the data, they have not solved the problem they are being paid to solve.  "
   ]
  },
  {
   "cell_type": "markdown",
   "metadata": {},
   "source": [
    "# Question 2: Maximum likelihood estimate (10 pts)\n",
    "\n",
    "Prove the statement on slide 3 of notes on MLR:\n",
    "\"Then minimizing Mean Squared Error (MSE) on the training data (which you can do using OLS) yields the Maximum Likelihood Estimate (MLE) solution of the assumed generative model.\"\n",
    "\n",
    "\n",
    "## Answer"
   ]
  },
  {
   "attachments": {},
   "cell_type": "markdown",
   "metadata": {},
   "source": [
    "Let's say that there are n data points. X is the feature vector, **w** is the weight vector. If the modeling assumptions are correct, the joint distribution of Y given X is given by the below equation\n",
    "\n",
    "\\begin{align*}\n",
    "P(Y|X) = \\frac{1}{\\sqrt{2 \\pi}\\sigma} \\exp^{\\sum_{i = 1}^n -(y_i -  w^T x_i)^2/\\sigma^2}\n",
    "\\end{align*}\n",
    "\n",
    "MLE  selects the predictor coeffiecients **w** in such a way that it maximizes the probability of encountering the observed dataset. Its clear that this probability is maximized if we maximize the exponential term, which is maximized if the maximize the coefficient of the exponent term. Thus we need to maximize the below term : \n",
    "\n",
    "\\begin{align*}\n",
    "max : \\sum_{i = 1}^n -(y_i -  w^T x_i)^2/\\sigma^2\n",
    "\\end{align*}\n",
    "\n",
    "which is same as minimizing \n",
    "\n",
    "\\begin{align*}\n",
    "min : \\sum_{i = 1}^n (y_i -  w^T x_i)^2/\\sigma^2\n",
    "\\end{align*}\n",
    "\n",
    "This final equation (which represents the negative log-likelihood) is proportional to the mean square error which we minimise in OLS."
   ]
  },
  {
   "cell_type": "markdown",
   "metadata": {},
   "source": [
    "# Question 3: Collinearity Issues (5 pts)\n",
    "\n",
    "What is the “collinearity” issue encountered in MLR? Why is this a problem when you try to use MLR?\n",
    "Suggest one way of addressing this problem.\n",
    "\n",
    "\n",
    "## Answer"
   ]
  },
  {
   "cell_type": "markdown",
   "metadata": {},
   "source": [
    "Collinearity is when two or more predictors in an MLR model are moderately or highly correlated.  Collinearity increases the variance and standard error of the regression coefficients, rendering them unstable.  The higher the variance, the harder it is to interpret the coefficients.  You can detect collinearity using variance inflation factors and remove the highly correlated predictors to address this problem. If removing predictor variables is not a viable option, you could also use principal component analysis to choose variables that reduce collinearity. "
   ]
  },
  {
   "cell_type": "markdown",
   "metadata": {},
   "source": [
    "# Question 4: Multiple Linear Regression in Python (20 pts)\n",
    "\n",
    "Use the following code to import the allstate-claims-severity dataset and linear models in python. The dataset is taken from https://www.kaggle.com/c/allstate-claims-severity I have removed the categorical variables to make it easier to run the models. Because of this, MAE (Mean absolute error) will be on higher end compared to other Kaggle entries. Please donwload the dataset \"reduced_train.csv\" and use it.\n",
    "\n"
   ]
  },
  {
   "cell_type": "code",
   "execution_count": 2,
   "metadata": {},
   "outputs": [],
   "source": [
    "from sklearn import linear_model\n",
    "from sklearn.metrics import mean_squared_error, mean_absolute_error\n",
    "import numpy as np\n",
    "import pandas as pd\n",
    "\n",
    "train_df = pd.read_csv(\"reduced_train.csv\")\n",
    "\n",
    "X = train_df.drop(['id','loss'],axis=1)\n",
    "Y = train_df['loss']"
   ]
  },
  {
   "cell_type": "markdown",
   "metadata": {},
   "source": [
    "a. (2 pts) Print the shape (number of rows and columns) of the feature matrix X, and print the first 5 rows.\n",
    "\n",
    "b.  (6 pts) Using ordinary least squares, fit a multiple linear regression (MLR) on all the feature variables using the entire dataset. Report the regression coefficient of each input feature and evaluate the model using mean absolute error (MAE).  Example of ordinary least squares in Python is shown in Section 1.1.1 of http://scikit-learn.org/stable/modules/linear_model.html.\n",
    "\n",
    "c.  (6 pts) Split the data into a training set and a test set, using the train_test_split with test_size = 0.30 and random_state = 50. The code for this is given below. Fit an MLR using the training set.  Evaluate the trained model using the training set and the test set, respectively.  Compare the two MAE values thus obtained.\n",
    "\n",
    "d.  (6 pts) Plot the histogram of Y_train and see its distribution. Now take log of Y_train and plot its histogram. Now run regression again after taking log and compare the MAE. You need to do np.exp(predictions) to bring them back to original scale, and then calculate MAE. Explain the results."
   ]
  },
  {
   "cell_type": "markdown",
   "metadata": {},
   "source": [
    "## Answer"
   ]
  },
  {
   "cell_type": "markdown",
   "metadata": {},
   "source": [
    "### a."
   ]
  },
  {
   "cell_type": "code",
   "execution_count": 3,
   "metadata": {},
   "outputs": [
    {
     "data": {
      "text/plain": [
       "(188318, 14)"
      ]
     },
     "execution_count": 3,
     "metadata": {},
     "output_type": "execute_result"
    }
   ],
   "source": [
    "X.shape"
   ]
  },
  {
   "cell_type": "code",
   "execution_count": 4,
   "metadata": {},
   "outputs": [
    {
     "data": {
      "text/html": [
       "<div>\n",
       "<style scoped>\n",
       "    .dataframe tbody tr th:only-of-type {\n",
       "        vertical-align: middle;\n",
       "    }\n",
       "\n",
       "    .dataframe tbody tr th {\n",
       "        vertical-align: top;\n",
       "    }\n",
       "\n",
       "    .dataframe thead th {\n",
       "        text-align: right;\n",
       "    }\n",
       "</style>\n",
       "<table border=\"1\" class=\"dataframe\">\n",
       "  <thead>\n",
       "    <tr style=\"text-align: right;\">\n",
       "      <th></th>\n",
       "      <th>cont1</th>\n",
       "      <th>cont2</th>\n",
       "      <th>cont3</th>\n",
       "      <th>cont4</th>\n",
       "      <th>cont5</th>\n",
       "      <th>cont6</th>\n",
       "      <th>cont7</th>\n",
       "      <th>cont8</th>\n",
       "      <th>cont9</th>\n",
       "      <th>cont10</th>\n",
       "      <th>cont11</th>\n",
       "      <th>cont12</th>\n",
       "      <th>cont13</th>\n",
       "      <th>cont14</th>\n",
       "    </tr>\n",
       "  </thead>\n",
       "  <tbody>\n",
       "    <tr>\n",
       "      <th>0</th>\n",
       "      <td>0.726300</td>\n",
       "      <td>0.245921</td>\n",
       "      <td>0.187583</td>\n",
       "      <td>0.789639</td>\n",
       "      <td>0.310061</td>\n",
       "      <td>0.718367</td>\n",
       "      <td>0.335060</td>\n",
       "      <td>0.30260</td>\n",
       "      <td>0.67135</td>\n",
       "      <td>0.83510</td>\n",
       "      <td>0.569745</td>\n",
       "      <td>0.594646</td>\n",
       "      <td>0.822493</td>\n",
       "      <td>0.714843</td>\n",
       "    </tr>\n",
       "    <tr>\n",
       "      <th>1</th>\n",
       "      <td>0.330514</td>\n",
       "      <td>0.737068</td>\n",
       "      <td>0.592681</td>\n",
       "      <td>0.614134</td>\n",
       "      <td>0.885834</td>\n",
       "      <td>0.438917</td>\n",
       "      <td>0.436585</td>\n",
       "      <td>0.60087</td>\n",
       "      <td>0.35127</td>\n",
       "      <td>0.43919</td>\n",
       "      <td>0.338312</td>\n",
       "      <td>0.366307</td>\n",
       "      <td>0.611431</td>\n",
       "      <td>0.304496</td>\n",
       "    </tr>\n",
       "    <tr>\n",
       "      <th>2</th>\n",
       "      <td>0.261841</td>\n",
       "      <td>0.358319</td>\n",
       "      <td>0.484196</td>\n",
       "      <td>0.236924</td>\n",
       "      <td>0.397069</td>\n",
       "      <td>0.289648</td>\n",
       "      <td>0.315545</td>\n",
       "      <td>0.27320</td>\n",
       "      <td>0.26076</td>\n",
       "      <td>0.32446</td>\n",
       "      <td>0.381398</td>\n",
       "      <td>0.373424</td>\n",
       "      <td>0.195709</td>\n",
       "      <td>0.774425</td>\n",
       "    </tr>\n",
       "    <tr>\n",
       "      <th>3</th>\n",
       "      <td>0.321594</td>\n",
       "      <td>0.555782</td>\n",
       "      <td>0.527991</td>\n",
       "      <td>0.373816</td>\n",
       "      <td>0.422268</td>\n",
       "      <td>0.440945</td>\n",
       "      <td>0.391128</td>\n",
       "      <td>0.31796</td>\n",
       "      <td>0.32128</td>\n",
       "      <td>0.44467</td>\n",
       "      <td>0.327915</td>\n",
       "      <td>0.321570</td>\n",
       "      <td>0.605077</td>\n",
       "      <td>0.602642</td>\n",
       "    </tr>\n",
       "    <tr>\n",
       "      <th>4</th>\n",
       "      <td>0.273204</td>\n",
       "      <td>0.159990</td>\n",
       "      <td>0.527991</td>\n",
       "      <td>0.473202</td>\n",
       "      <td>0.704268</td>\n",
       "      <td>0.178193</td>\n",
       "      <td>0.247408</td>\n",
       "      <td>0.24564</td>\n",
       "      <td>0.22089</td>\n",
       "      <td>0.21230</td>\n",
       "      <td>0.204687</td>\n",
       "      <td>0.202213</td>\n",
       "      <td>0.246011</td>\n",
       "      <td>0.432606</td>\n",
       "    </tr>\n",
       "  </tbody>\n",
       "</table>\n",
       "</div>"
      ],
      "text/plain": [
       "      cont1     cont2     cont3     cont4     cont5     cont6     cont7  \\\n",
       "0  0.726300  0.245921  0.187583  0.789639  0.310061  0.718367  0.335060   \n",
       "1  0.330514  0.737068  0.592681  0.614134  0.885834  0.438917  0.436585   \n",
       "2  0.261841  0.358319  0.484196  0.236924  0.397069  0.289648  0.315545   \n",
       "3  0.321594  0.555782  0.527991  0.373816  0.422268  0.440945  0.391128   \n",
       "4  0.273204  0.159990  0.527991  0.473202  0.704268  0.178193  0.247408   \n",
       "\n",
       "     cont8    cont9   cont10    cont11    cont12    cont13    cont14  \n",
       "0  0.30260  0.67135  0.83510  0.569745  0.594646  0.822493  0.714843  \n",
       "1  0.60087  0.35127  0.43919  0.338312  0.366307  0.611431  0.304496  \n",
       "2  0.27320  0.26076  0.32446  0.381398  0.373424  0.195709  0.774425  \n",
       "3  0.31796  0.32128  0.44467  0.327915  0.321570  0.605077  0.602642  \n",
       "4  0.24564  0.22089  0.21230  0.204687  0.202213  0.246011  0.432606  "
      ]
     },
     "execution_count": 4,
     "metadata": {},
     "output_type": "execute_result"
    }
   ],
   "source": [
    "X[0:5]"
   ]
  },
  {
   "cell_type": "markdown",
   "metadata": {},
   "source": [
    "### b."
   ]
  },
  {
   "cell_type": "code",
   "execution_count": 5,
   "metadata": {},
   "outputs": [
    {
     "name": "stdout",
     "output_type": "stream",
     "text": [
      "Populating the interactive namespace from numpy and matplotlib\n"
     ]
    }
   ],
   "source": [
    "from pandas import Series, DataFrame\n",
    "import pandas as pd\n",
    "%pylab inline\n",
    "import statsmodels.api as sm\n",
    "from patsy import dmatrices\n",
    "from sklearn import linear_model\n",
    "from sklearn import metrics"
   ]
  },
  {
   "cell_type": "code",
   "execution_count": 6,
   "metadata": {},
   "outputs": [],
   "source": [
    "y, X = dmatrices('loss ~ cont1 + cont2 + cont3 + cont4 + cont5 + cont6 + cont7 + cont8 + cont9 + cont10 + cont11 + cont12 + cont13 + cont14', data=train_df, return_type='dataframe')"
   ]
  },
  {
   "cell_type": "code",
   "execution_count": 7,
   "metadata": {},
   "outputs": [],
   "source": [
    "#fit model \n",
    "from sklearn import linear_model\n",
    "lm = linear_model.LinearRegression()"
   ]
  },
  {
   "cell_type": "code",
   "execution_count": 8,
   "metadata": {},
   "outputs": [],
   "source": [
    "X = train_df.drop(['id','loss'],axis=1)\n",
    "Y = train_df['loss']\n",
    "result = lm.fit(X,Y)"
   ]
  },
  {
   "cell_type": "code",
   "execution_count": 9,
   "metadata": {
    "collapsed": true
   },
   "outputs": [
    {
     "name": "stdout",
     "output_type": "stream",
     "text": [
      "The regression coefficents are shown below\n"
     ]
    },
    {
     "data": {
      "text/html": [
       "<div>\n",
       "<style scoped>\n",
       "    .dataframe tbody tr th:only-of-type {\n",
       "        vertical-align: middle;\n",
       "    }\n",
       "\n",
       "    .dataframe tbody tr th {\n",
       "        vertical-align: top;\n",
       "    }\n",
       "\n",
       "    .dataframe thead th {\n",
       "        text-align: right;\n",
       "    }\n",
       "</style>\n",
       "<table border=\"1\" class=\"dataframe\">\n",
       "  <thead>\n",
       "    <tr style=\"text-align: right;\">\n",
       "      <th></th>\n",
       "      <th>0</th>\n",
       "    </tr>\n",
       "  </thead>\n",
       "  <tbody>\n",
       "    <tr>\n",
       "      <th>0</th>\n",
       "      <td>-2137.111212</td>\n",
       "    </tr>\n",
       "    <tr>\n",
       "      <th>1</th>\n",
       "      <td>1762.240616</td>\n",
       "    </tr>\n",
       "    <tr>\n",
       "      <th>2</th>\n",
       "      <td>-56.579685</td>\n",
       "    </tr>\n",
       "    <tr>\n",
       "      <th>3</th>\n",
       "      <td>-301.172981</td>\n",
       "    </tr>\n",
       "    <tr>\n",
       "      <th>4</th>\n",
       "      <td>30.032018</td>\n",
       "    </tr>\n",
       "    <tr>\n",
       "      <th>5</th>\n",
       "      <td>-557.225099</td>\n",
       "    </tr>\n",
       "    <tr>\n",
       "      <th>6</th>\n",
       "      <td>1707.955206</td>\n",
       "    </tr>\n",
       "    <tr>\n",
       "      <th>7</th>\n",
       "      <td>298.612406</td>\n",
       "    </tr>\n",
       "    <tr>\n",
       "      <th>8</th>\n",
       "      <td>2049.379104</td>\n",
       "    </tr>\n",
       "    <tr>\n",
       "      <th>9</th>\n",
       "      <td>-250.019861</td>\n",
       "    </tr>\n",
       "    <tr>\n",
       "      <th>10</th>\n",
       "      <td>-1732.348874</td>\n",
       "    </tr>\n",
       "    <tr>\n",
       "      <th>11</th>\n",
       "      <td>2724.389858</td>\n",
       "    </tr>\n",
       "    <tr>\n",
       "      <th>12</th>\n",
       "      <td>-631.301289</td>\n",
       "    </tr>\n",
       "    <tr>\n",
       "      <th>13</th>\n",
       "      <td>273.626005</td>\n",
       "    </tr>\n",
       "  </tbody>\n",
       "</table>\n",
       "</div>"
      ],
      "text/plain": [
       "              0\n",
       "0  -2137.111212\n",
       "1   1762.240616\n",
       "2    -56.579685\n",
       "3   -301.172981\n",
       "4     30.032018\n",
       "5   -557.225099\n",
       "6   1707.955206\n",
       "7    298.612406\n",
       "8   2049.379104\n",
       "9   -250.019861\n",
       "10 -1732.348874\n",
       "11  2724.389858\n",
       "12  -631.301289\n",
       "13   273.626005"
      ]
     },
     "execution_count": 9,
     "metadata": {},
     "output_type": "execute_result"
    }
   ],
   "source": [
    "#report regression coefficients of each input feature \n",
    "print('The regression coefficents are shown below')\n",
    "pd.DataFrame(result.coef_)"
   ]
  },
  {
   "cell_type": "code",
   "execution_count": 10,
   "metadata": {},
   "outputs": [
    {
     "name": "stdout",
     "output_type": "stream",
     "text": [
      "The mean absolute error is  1950.3606265639835\n"
     ]
    }
   ],
   "source": [
    "#report MAE\n",
    "from sklearn.metrics import mean_absolute_error\n",
    "y_pred = lm.predict(X)\n",
    "print('The mean absolute error is ', mean_absolute_error(Y, y_pred))"
   ]
  },
  {
   "cell_type": "markdown",
   "metadata": {},
   "source": [
    "### c."
   ]
  },
  {
   "cell_type": "code",
   "execution_count": 11,
   "metadata": {},
   "outputs": [],
   "source": [
    "from sklearn.model_selection import train_test_split\n",
    "\n",
    "#split into train and test \n",
    "X_train, X_test, Y_train, Y_test = train_test_split(X,Y,test_size = 0.30, random_state=50)"
   ]
  },
  {
   "cell_type": "code",
   "execution_count": 12,
   "metadata": {},
   "outputs": [],
   "source": [
    "#fit the MLR on training set \n",
    "y, X = dmatrices('loss ~ cont1 + cont2 + cont3 + cont4 + cont5 + cont6 + cont7 + cont8 + cont9 + cont10 + cont11 + cont12 + cont13 + cont14', data=train_df, return_type='dataframe')\n",
    "lm = linear_model.LinearRegression()\n",
    "result = lm.fit(X_train, Y_train)       # Fit model"
   ]
  },
  {
   "cell_type": "code",
   "execution_count": 13,
   "metadata": {},
   "outputs": [
    {
     "name": "stdout",
     "output_type": "stream",
     "text": [
      "The mean absolute error is  1946.9866773014621\n"
     ]
    }
   ],
   "source": [
    "#MAE for training set \n",
    "Y_train_pred = lm.predict(X_train)\n",
    "print('The mean absolute error is ', mean_absolute_error(Y_train, Y_train_pred))"
   ]
  },
  {
   "cell_type": "code",
   "execution_count": 14,
   "metadata": {},
   "outputs": [],
   "source": [
    "#fit MLR on test set \n",
    "result = lm.fit(X_test, Y_test)       # Fit model (find the intercept and slopes)\n",
    "prediction = lm.predict(X_test)"
   ]
  },
  {
   "cell_type": "code",
   "execution_count": 15,
   "metadata": {},
   "outputs": [
    {
     "name": "stdout",
     "output_type": "stream",
     "text": [
      "The mean absolute error is  1958.1821098717114\n"
     ]
    }
   ],
   "source": [
    "#MAE for test set \n",
    "Y_test_pred = lm.predict(X_test)\n",
    "print('The mean absolute error is ', mean_absolute_error(Y_test, Y_test_pred))"
   ]
  },
  {
   "cell_type": "markdown",
   "metadata": {},
   "source": [
    "We got a higher mean absolute error out of sample than in sample.  Both are higher than the MAE of 1950 found in part (b). "
   ]
  },
  {
   "cell_type": "markdown",
   "metadata": {},
   "source": [
    "### d."
   ]
  },
  {
   "cell_type": "code",
   "execution_count": 16,
   "metadata": {},
   "outputs": [
    {
     "data": {
      "text/plain": [
       "(array([3.3224e+04, 4.0947e+04, 2.1819e+04, 1.3022e+04, 7.9650e+03,\n",
       "        5.1370e+03, 3.0700e+03, 2.1010e+03, 1.3880e+03, 9.4900e+02,\n",
       "        6.2600e+02, 4.3800e+02, 3.1000e+02, 2.2600e+02, 1.4300e+02,\n",
       "        1.1300e+02, 7.7000e+01, 6.3000e+01, 4.3000e+01, 3.3000e+01,\n",
       "        2.8000e+01, 2.4000e+01, 1.3000e+01, 1.0000e+01, 1.0000e+01,\n",
       "        5.0000e+00, 4.0000e+00, 4.0000e+00, 5.0000e+00, 2.0000e+00,\n",
       "        1.0000e+00, 1.0000e+00, 0.0000e+00, 1.0000e+00, 3.0000e+00,\n",
       "        0.0000e+00, 4.0000e+00, 2.0000e+00, 0.0000e+00, 0.0000e+00,\n",
       "        1.0000e+00, 0.0000e+00, 2.0000e+00, 0.0000e+00, 1.0000e+00,\n",
       "        0.0000e+00, 0.0000e+00, 1.0000e+00, 0.0000e+00, 1.0000e+00,\n",
       "        0.0000e+00, 0.0000e+00, 0.0000e+00, 0.0000e+00, 0.0000e+00,\n",
       "        1.0000e+00, 0.0000e+00, 0.0000e+00, 0.0000e+00, 0.0000e+00,\n",
       "        0.0000e+00, 0.0000e+00, 0.0000e+00, 0.0000e+00, 0.0000e+00,\n",
       "        1.0000e+00, 0.0000e+00, 0.0000e+00, 0.0000e+00, 0.0000e+00,\n",
       "        0.0000e+00, 1.0000e+00, 0.0000e+00, 0.0000e+00, 0.0000e+00,\n",
       "        0.0000e+00, 0.0000e+00, 0.0000e+00, 0.0000e+00, 0.0000e+00,\n",
       "        0.0000e+00, 0.0000e+00, 0.0000e+00, 0.0000e+00, 0.0000e+00,\n",
       "        0.0000e+00, 0.0000e+00, 0.0000e+00, 1.0000e+00, 0.0000e+00,\n",
       "        0.0000e+00, 0.0000e+00, 0.0000e+00, 0.0000e+00, 0.0000e+00,\n",
       "        0.0000e+00, 0.0000e+00, 0.0000e+00, 0.0000e+00, 1.0000e+00]),\n",
       " array([6.70000000e-01, 1.21078580e+03, 2.42090160e+03, 3.63101740e+03,\n",
       "        4.84113320e+03, 6.05124900e+03, 7.26136480e+03, 8.47148060e+03,\n",
       "        9.68159640e+03, 1.08917122e+04, 1.21018280e+04, 1.33119438e+04,\n",
       "        1.45220596e+04, 1.57321754e+04, 1.69422912e+04, 1.81524070e+04,\n",
       "        1.93625228e+04, 2.05726386e+04, 2.17827544e+04, 2.29928702e+04,\n",
       "        2.42029860e+04, 2.54131018e+04, 2.66232176e+04, 2.78333334e+04,\n",
       "        2.90434492e+04, 3.02535650e+04, 3.14636808e+04, 3.26737966e+04,\n",
       "        3.38839124e+04, 3.50940282e+04, 3.63041440e+04, 3.75142598e+04,\n",
       "        3.87243756e+04, 3.99344914e+04, 4.11446072e+04, 4.23547230e+04,\n",
       "        4.35648388e+04, 4.47749546e+04, 4.59850704e+04, 4.71951862e+04,\n",
       "        4.84053020e+04, 4.96154178e+04, 5.08255336e+04, 5.20356494e+04,\n",
       "        5.32457652e+04, 5.44558810e+04, 5.56659968e+04, 5.68761126e+04,\n",
       "        5.80862284e+04, 5.92963442e+04, 6.05064600e+04, 6.17165758e+04,\n",
       "        6.29266916e+04, 6.41368074e+04, 6.53469232e+04, 6.65570390e+04,\n",
       "        6.77671548e+04, 6.89772706e+04, 7.01873864e+04, 7.13975022e+04,\n",
       "        7.26076180e+04, 7.38177338e+04, 7.50278496e+04, 7.62379654e+04,\n",
       "        7.74480812e+04, 7.86581970e+04, 7.98683128e+04, 8.10784286e+04,\n",
       "        8.22885444e+04, 8.34986602e+04, 8.47087760e+04, 8.59188918e+04,\n",
       "        8.71290076e+04, 8.83391234e+04, 8.95492392e+04, 9.07593550e+04,\n",
       "        9.19694708e+04, 9.31795866e+04, 9.43897024e+04, 9.55998182e+04,\n",
       "        9.68099340e+04, 9.80200498e+04, 9.92301656e+04, 1.00440281e+05,\n",
       "        1.01650397e+05, 1.02860513e+05, 1.04070629e+05, 1.05280745e+05,\n",
       "        1.06490860e+05, 1.07700976e+05, 1.08911092e+05, 1.10121208e+05,\n",
       "        1.11331324e+05, 1.12541439e+05, 1.13751555e+05, 1.14961671e+05,\n",
       "        1.16171787e+05, 1.17381903e+05, 1.18592018e+05, 1.19802134e+05,\n",
       "        1.21012250e+05]),\n",
       " <a list of 100 Patch objects>)"
      ]
     },
     "execution_count": 16,
     "metadata": {},
     "output_type": "execute_result"
    },
    {
     "data": {
      "image/png": "[encoded data removed]",
      "text/plain": [
       "<Figure size 432x288 with 1 Axes>"
      ]
     },
     "metadata": {},
     "output_type": "display_data"
    }
   ],
   "source": [
    "#plot histogram of Y_train to see distribution \n",
    "import matplotlib.pyplot as plt\n",
    "plt.hist(Y_train, bins=100, alpha=0.5)"
   ]
  },
  {
   "cell_type": "code",
   "execution_count": 17,
   "metadata": {},
   "outputs": [
    {
     "data": {
      "text/plain": [
       "(array([1.0000e+00, 0.0000e+00, 0.0000e+00, 1.0000e+00, 1.0000e+00,\n",
       "        2.0000e+00, 5.0000e+00, 2.2000e+01, 6.4000e+01, 3.1800e+02,\n",
       "        2.9880e+03, 1.8247e+04, 3.2835e+04, 3.5248e+04, 2.6281e+04,\n",
       "        1.2542e+04, 2.9410e+03, 3.0100e+02, 2.0000e+01, 5.0000e+00]),\n",
       " array([-0.40047757,  0.20472866,  0.8099349 ,  1.41514113,  2.02034736,\n",
       "         2.62555359,  3.23075982,  3.83596605,  4.44117228,  5.04637851,\n",
       "         5.65158475,  6.25679098,  6.86199721,  7.46720344,  8.07240967,\n",
       "         8.6776159 ,  9.28282213,  9.88802837, 10.4932346 , 11.09844083,\n",
       "        11.70364706]),\n",
       " <a list of 20 Patch objects>)"
      ]
     },
     "execution_count": 17,
     "metadata": {},
     "output_type": "execute_result"
    },
    {
     "data": {
      "image/png": "[encoded data removed]",
      "text/plain": [
       "<Figure size 432x288 with 1 Axes>"
      ]
     },
     "metadata": {},
     "output_type": "display_data"
    }
   ],
   "source": [
    "#take log of Y_train and plot histogram \n",
    "log_train_Y = np.log(Y_train)\n",
    "plt.hist(log_train_Y, bins=20, alpha=0.5)"
   ]
  },
  {
   "cell_type": "code",
   "execution_count": 18,
   "metadata": {},
   "outputs": [
    {
     "name": "stdout",
     "output_type": "stream",
     "text": [
      "The mean absolute error is  2182.147088859115\n"
     ]
    }
   ],
   "source": [
    "#run regression again on log Y_train and compare MAE\n",
    "#do np.exp(predictions) and then calculate MAE\n",
    "lm = linear_model.LinearRegression()\n",
    "result = lm.fit(X_train, log_train_Y)  \n",
    "\n",
    "Y_train_pred = np.exp(lm.predict(X_train))\n",
    "\n",
    "print('The mean absolute error is ', mean_absolute_error(log_train_Y, Y_train_pred))"
   ]
  },
  {
   "cell_type": "markdown",
   "metadata": {},
   "source": [
    "The mean absolute error increases when we take the log of our training set."
   ]
  },
  {
   "cell_type": "markdown",
   "metadata": {},
   "source": [
    "# Question 5: Ridge and Lasso Regression (25 points)\n"
   ]
  },
  {
   "cell_type": "markdown",
   "metadata": {},
   "source": [
    "Using the same data from before, in this question you will explore the application of Lasso and Ridge regression using sklearn package in Python. Split the data into a training set and a test set, using the train_test_split with test_size = 0.30 and random_state = 50. Take log of the Y_train and use it for training."
   ]
  },
  {
   "cell_type": "markdown",
   "metadata": {},
   "source": [
    "1) Use sklearn.linear_model.Lasso and sklearn.linear_model.Ridge classes to do a [5-fold cross validation](http://scikit-learn.org/stable/auto_examples/exercises/plot_cv_diabetes.html#example-exercises-plot-cv-diabetes-py) using sklearn's [KFold](http://scikit-learn.org/stable/modules/generated/sklearn.cross_validation.KFold.html). For the sweep of the regularization parameter, we will look at a grid of values ranging from $\\lambda = 10^{10}$ to $\\lambda = 10^{-6}$. In Python, you can consider this range of values as follows:\n",
    "\n",
    "      import numpy as np\n",
    "\n",
    "      alphas =  10**np.linspace(10,-6,100)*0.5\n",
    "\n",
    "  Report the best chosen $\\lambda$ based on cross validation. The cross validation should happen on your training data using  average MAE as the scoring metric. (8pts)\n",
    "\n",
    "2) Run ridge and lasso for all of the alphas specified above (on training data), and plot the coefficients learned for each of them - there should be one plot each for lasso and ridge, so a total of two plots; the plots for different features for a method should be on the same plot. What do you qualitatively observe when value of the regularization parameter is changed? (7pts)\n",
    "\n",
    "3) Run least squares regression, ridge, and lasso on the training data. For ridge and lasso, use only the best regularization parameter. Report the prediction error (MAE) on the test data for each. (5pts)\n",
    "\n",
    "4) Run lasso again with cross validation using [sklearn.linear_model.LassoCV](http://scikit-learn.org/stable/modules/generated/sklearn.linear_model.LassoCV.html). Set the cross validation parameters as follows:\n",
    "\n",
    "    LassoCV(alphas=None, cv=10, max_iter=10000)\n",
    "\n",
    "Report the best $\\lambda$ based on cross validation. Run lasso on the training data using the best $\\lambda$ and report the coefficeints for all variables. (5pts)\n",
    "\n",
    "## Answer\n",
    "\n"
   ]
  },
  {
   "cell_type": "code",
   "execution_count": 19,
   "metadata": {},
   "outputs": [],
   "source": [
    "X = train_df.drop(['id','loss'],axis=1)\n",
    "Y = train_df['loss']\n",
    "#split data \n",
    "X_train, X_test, Y_train, Y_test = train_test_split(X,Y,test_size = 0.30, random_state=50)\n",
    "#take log of Y_train to use for training\n",
    "log_train_Y = np.log(Y_train)"
   ]
  },
  {
   "cell_type": "code",
   "execution_count": 24,
   "metadata": {
    "collapsed": true
   },
   "outputs": [
    {
     "data": {
      "text/plain": [
       "103945    6.450376\n",
       "125348    8.045950\n",
       "74359     7.395427\n",
       "136243    6.856883\n",
       "154604    7.273967\n",
       "66035     7.338043\n",
       "71117     8.642112\n",
       "133398    9.158423\n",
       "34248     7.522352\n",
       "39550     7.752099\n",
       "55445     7.475300\n",
       "125043    9.358644\n",
       "27840     8.113843\n",
       "35000     8.290717\n",
       "116248    9.192974\n",
       "103599    7.668603\n",
       "54699     8.105501\n",
       "110037    7.762081\n",
       "58319     7.443318\n",
       "530       8.540529\n",
       "121218    7.300182\n",
       "78837     9.875959\n",
       "29527     7.335816\n",
       "180946    7.979168\n",
       "146223    9.518331\n",
       "93428     7.050833\n",
       "87419     5.896302\n",
       "9544      7.206511\n",
       "31904     9.463308\n",
       "12916     7.782357\n",
       "            ...   \n",
       "105577    6.655530\n",
       "184734    6.107312\n",
       "176207    6.307114\n",
       "151170    7.444915\n",
       "44179     8.645917\n",
       "53766     7.108719\n",
       "49659     8.419272\n",
       "70654     7.626054\n",
       "43328     6.894042\n",
       "130154    7.108710\n",
       "88405     6.762753\n",
       "36244     8.914002\n",
       "23686     8.214533\n",
       "86234     6.827456\n",
       "82523     7.919193\n",
       "98140     8.093978\n",
       "150478    7.445511\n",
       "50628     7.408591\n",
       "8559      8.649852\n",
       "165959    6.315738\n",
       "122106    8.104293\n",
       "186463    7.128953\n",
       "172102    7.641142\n",
       "55366     8.681631\n",
       "123012    7.367355\n",
       "59358     8.762068\n",
       "179489    8.688044\n",
       "153709    7.122520\n",
       "103904    8.634960\n",
       "145072    8.835467\n",
       "Name: loss, Length: 131822, dtype: float64"
      ]
     },
     "execution_count": 24,
     "metadata": {},
     "output_type": "execute_result"
    }
   ],
   "source": [
    "log_train_Y #check "
   ]
  },
  {
   "cell_type": "code",
   "execution_count": 20,
   "metadata": {},
   "outputs": [],
   "source": [
    "from sklearn.linear_model import LassoCV\n",
    "from sklearn.linear_model import Lasso\n",
    "from sklearn.model_selection import KFold\n",
    "from sklearn.model_selection import GridSearchCV"
   ]
  },
  {
   "cell_type": "markdown",
   "metadata": {},
   "source": [
    "### 1) "
   ]
  },
  {
   "cell_type": "code",
   "execution_count": 21,
   "metadata": {},
   "outputs": [],
   "source": [
    "#lambda values \n",
    "import numpy as np\n",
    "alphas =  10**np.linspace(10,-6,100)*0.5"
   ]
  },
  {
   "cell_type": "code",
   "execution_count": 22,
   "metadata": {},
   "outputs": [
    {
     "name": "stdout",
     "output_type": "stream",
     "text": [
      "Best alpha:  {'alpha': 6.309284415330092e-05}\n",
      "Best score:  -0.6548869493016525\n"
     ]
    },
    {
     "data": {
      "image/png": "[encoded data removed]",
      "text/plain": [
       "<Figure size 576x432 with 1 Axes>"
      ]
     },
     "metadata": {},
     "output_type": "display_data"
    }
   ],
   "source": [
    "import warnings\n",
    "warnings.filterwarnings('ignore')\n",
    "\n",
    "lasso = Lasso(random_state=50)\n",
    "\n",
    "#K fold CV Lasso\n",
    "tuned_parameters = [{'alpha': alphas}]\n",
    "n_folds = 5\n",
    "\n",
    "clf = GridSearchCV(lasso, tuned_parameters, cv=n_folds, refit=False, scoring = 'mean_absolute_error')\n",
    "clf.fit(X_train, log_train_Y)\n",
    "scores = clf.cv_results_['mean_test_score']\n",
    "scores_std = clf.cv_results_['std_test_score']\n",
    "plt.figure().set_size_inches(8, 6)\n",
    "plt.semilogx(alphas, scores)\n",
    "\n",
    "# plot error lines showing +/- std. errors of the scores\n",
    "std_error = scores_std / np.sqrt(n_folds)\n",
    "\n",
    "plt.semilogx(alphas, scores + std_error, 'b--')\n",
    "plt.semilogx(alphas, scores - std_error, 'b--')\n",
    "\n",
    "\n",
    "plt.fill_between(alphas, scores + std_error, scores - std_error, alpha=0.2)\n",
    "\n",
    "plt.ylabel('CV score +/- std error')\n",
    "plt.xlabel('alpha')\n",
    "plt.title('Lasso Model with k-folds = 5')\n",
    "plt.axhline(np.max(scores), linestyle='--', color='.5')\n",
    "plt.xlim([alphas[0], alphas[-1]])\n",
    "\n",
    "print (\"Best alpha: \", clf.best_params_)\n",
    "print (\"Best score: \", clf.best_score_)"
   ]
  },
  {
   "cell_type": "code",
   "execution_count": 23,
   "metadata": {},
   "outputs": [
    {
     "name": "stdout",
     "output_type": "stream",
     "text": [
      "Best alpha:  {'alpha': 13.5929412136647}\n",
      "Best score:  -0.654890499493081\n"
     ]
    },
    {
     "data": {
      "image/png": "[encoded data removed]",
      "text/plain": [
       "<Figure size 576x432 with 1 Axes>"
      ]
     },
     "metadata": {},
     "output_type": "display_data"
    }
   ],
   "source": [
    "from sklearn.linear_model import RidgeCV\n",
    "from sklearn.linear_model import Ridge\n",
    "\n",
    "import warnings\n",
    "warnings.filterwarnings('ignore')\n",
    "\n",
    "#K Fold CV Ridge\n",
    "ridge = Ridge(random_state=50)\n",
    "\n",
    "tuned_parameters = [{'alpha': alphas}]\n",
    "n_folds = 5\n",
    "\n",
    "crf = GridSearchCV(ridge, tuned_parameters, cv=n_folds, refit=False , scoring = 'mean_absolute_error')\n",
    "crf.fit(X_train, log_train_Y)\n",
    "scores = crf.cv_results_['mean_test_score']\n",
    "scores_std = crf.cv_results_['std_test_score']\n",
    "plt.figure().set_size_inches(8, 6)\n",
    "plt.semilogx(alphas, scores)\n",
    "\n",
    "# plot error lines showing +/- std. errors of the scores\n",
    "std_error = scores_std / np.sqrt(n_folds)\n",
    "\n",
    "plt.semilogx(alphas, scores + std_error, 'b--')\n",
    "plt.semilogx(alphas, scores - std_error, 'b--')\n",
    "\n",
    "# alpha=0.2 controls the translucency of the fill color\n",
    "plt.fill_between(alphas, scores + std_error, scores - std_error, alpha=0.2)\n",
    "\n",
    "plt.ylabel('CV score +/- std error')\n",
    "plt.xlabel('alpha')\n",
    "plt.title('Ridge Model with k-folds = 5')\n",
    "plt.axhline(np.max(scores), linestyle='--', color='.5')\n",
    "plt.xlim([alphas[0], alphas[-1]])\n",
    "\n",
    "print (\"Best alpha: \", crf.best_params_)\n",
    "print (\"Best score: \", crf.best_score_)"
   ]
  },
  {
   "cell_type": "markdown",
   "metadata": {},
   "source": [
    "### 2)"
   ]
  },
  {
   "cell_type": "code",
   "execution_count": 24,
   "metadata": {},
   "outputs": [
    {
     "data": {
      "image/png": "[encoded data removed]",
      "text/plain": [
       "<Figure size 432x288 with 1 Axes>"
      ]
     },
     "metadata": {},
     "output_type": "display_data"
    }
   ],
   "source": [
    "#run ridge \n",
    "from sklearn import linear_model\n",
    "ridge = linear_model.Ridge\n",
    "\n",
    "alphas =  10**np.linspace(10,-6,100)*0.5\n",
    "n_alphas = 100\n",
    "\n",
    "coefs = []\n",
    "for a in alphas:\n",
    "    ridge = linear_model.Ridge(alpha=a)\n",
    "    ridge.fit(X_train, log_train_Y)\n",
    "    coefs.append(ridge.coef_)\n",
    "\n",
    "ax = plt.gca()\n",
    "\n",
    "ax.plot(alphas, coefs)\n",
    "ax.set_xscale('log')\n",
    "ax.set_xlim(ax.get_xlim()[::-1])  # reverse axis\n",
    "plt.xlabel('alpha')\n",
    "plt.ylabel('weights')\n",
    "plt.title('Ridge coefficients as a function of the regularization')\n",
    "plt.axis('tight')\n",
    "plt.show()\n"
   ]
  },
  {
   "cell_type": "code",
   "execution_count": 32,
   "metadata": {},
   "outputs": [
    {
     "data": {
      "image/png": "[encoded data removed]",
      "text/plain": [
       "<Figure size 432x288 with 1 Axes>"
      ]
     },
     "metadata": {},
     "output_type": "display_data"
    }
   ],
   "source": [
    "#run lasso \n",
    "lasso = linear_model.Lasso\n",
    "\n",
    "n_alphas = 100\n",
    "\n",
    "coefs = []\n",
    "for a in alphas:\n",
    "    lasso = linear_model.Lasso(alpha=a)\n",
    "    lasso.fit(X_train, log_train_Y)\n",
    "    coefs.append(lasso.coef_)\n",
    "\n",
    "ax = plt.gca()\n",
    "\n",
    "ax.plot(alphas, coefs)\n",
    "ax.set_xscale('log')\n",
    "ax.set_xlim(ax.get_xlim()[::-1])  # reverse axis\n",
    "plt.xlabel('alpha')\n",
    "plt.ylabel('weights')\n",
    "plt.title('Lasso coefficients as a function of the regularization')\n",
    "plt.axis('tight')\n",
    "plt.show()"
   ]
  },
  {
   "cell_type": "markdown",
   "metadata": {},
   "source": [
    "\n",
    "In lasso, the regression coefficients are approaching 0 more quickly than they are in ridge.  "
   ]
  },
  {
   "cell_type": "markdown",
   "metadata": {},
   "source": [
    "### 3)"
   ]
  },
  {
   "cell_type": "code",
   "execution_count": 30,
   "metadata": {},
   "outputs": [
    {
     "name": "stdout",
     "output_type": "stream",
     "text": [
      "The mean absolute error is  3041.746841438936\n"
     ]
    }
   ],
   "source": [
    "#Run least squares regression on the training data\n",
    "lm = linear_model.LinearRegression()\n",
    "result = lm.fit(X_train, log_train_Y)\n",
    "\n",
    "#get MAE\n",
    "y_pred = lm.predict(X_test)\n",
    "print('The mean absolute error is ', mean_absolute_error(Y_test, y_pred))"
   ]
  },
  {
   "cell_type": "code",
   "execution_count": 31,
   "metadata": {},
   "outputs": [
    {
     "name": "stdout",
     "output_type": "stream",
     "text": [
      "The mean absolute error is  3041.747451599329\n"
     ]
    }
   ],
   "source": [
    "#run ridge on training data\n",
    "best_alpha_ridge = crf.fit(X_train, Y_train).best_estimator_.alpha\n",
    "ridge = Ridge(random_state = 50, alpha = best_alpha_ridge)\n",
    "ridge_fit = ridge.fit(X_train, log_train_Y)\n",
    "\n",
    "#get MAE\n",
    "y_pred = ridge_fit.predict(X_test)\n",
    "print('The mean absolute error is ', mean_absolute_error(Y_test, y_pred))"
   ]
  },
  {
   "cell_type": "code",
   "execution_count": 34,
   "metadata": {},
   "outputs": [
    {
     "name": "stdout",
     "output_type": "stream",
     "text": [
      "The mean absolute error is  3041.747995926971\n"
     ]
    }
   ],
   "source": [
    "#run lasso on training data\n",
    "best_alpha_lasso = crf.fit(X_train, Y_train).best_estimator_.alpha\n",
    "lasso = Lasso(random_state = 50, alpha = best_alpha_lasso)\n",
    "lasso_fit = lasso.fit(X_train, log_train_Y)\n",
    "\n",
    "#get MAE\n",
    "y_pred = lasso_fit.predict(X_test)\n",
    "print('The mean absolute error is ', mean_absolute_error(Y_test, y_pred))"
   ]
  },
  {
   "cell_type": "markdown",
   "metadata": {},
   "source": [
    "### 4)"
   ]
  },
  {
   "cell_type": "code",
   "execution_count": 35,
   "metadata": {},
   "outputs": [
    {
     "name": "stdout",
     "output_type": "stream",
     "text": [
      "The best lambda value is  0.0847344666002162\n",
      "The list of coefficients is as follows: \n",
      " [-2061.95754937  1740.42119228   -44.33076231  -307.64677239\n",
      "    49.49017238  -681.32900774  1777.30464782   323.05009389\n",
      "  2014.13043053  -232.29326175 -1454.3955373   2399.16261087\n",
      "  -538.56666372   245.03939471]\n"
     ]
    }
   ],
   "source": [
    "#run lasso with CV\n",
    "clf = LassoCV(alphas=None, cv=10, max_iter=10000)\n",
    "clf.fit(X_train, Y_train)\n",
    "best_alpha = clf.alpha_\n",
    "\n",
    "#Report the best  lambda \n",
    "print (\"The best lambda value is \", best_alpha)\n",
    "\n",
    "\n",
    "#Run lasso on the training data using best lambda\n",
    "lasso2 = Lasso(random_state = 50, alpha = best_alpha)\n",
    "lasso2_fit = lasso2.fit(X_train, Y_train)\n",
    "\n",
    "#report the coefficeints for all variables\n",
    "print (\"The list of coefficients is as follows: \\n\", lasso2_fit.coef_)\n",
    "lasso2_y_pred = lasso2_fit.predict(X_test)"
   ]
  },
  {
   "cell_type": "markdown",
   "metadata": {},
   "source": [
    "# Question 6 (10pts)\n",
    "\n",
    "Please solve problem \\#3.3 on page 174 in Bishop (Chapter 3). The problem has been uploaded to Canvas under 'Files': **CH3 problems from Bishop PRML.pdf**.\n",
    "\n",
    "## Answer"
   ]
  },
  {
   "cell_type": "markdown",
   "metadata": {},
   "source": []
  },
  {
   "cell_type": "markdown",
   "metadata": {},
   "source": [
    "\\begin{equation}\n",
    "\\textbf{w}^{*} = \\min_{w}{\\frac{1}{2}\\sum_{n = 1}^Nr_n\\{t_n - \\textbf{w}^\\textrm{T}\\phi(x_n)\\}^2}\n",
    "\\end{equation}\n",
    "\n",
    "Take the derivative and set equal to 0:\n",
    "\\begin{align*}\n",
    "\\frac{\\partial \\textrm{E}_\\textrm{D}(\\textbf{w})}{\\partial \\textbf{w}} &= \\\n",
    "\\sum_{n = 1}^Nr_n\\{t_n - \\textbf{w}^\\textrm{T}\\phi(x_n)\\}(-\\phi(x_n)) \\\\\n",
    "&= -\\sum_{n = 1}^Nr_n\\{t_n - \\textbf{w}^\\textrm{T}\\phi(x_n)\\}\\phi(x_n) \\\\\n",
    "&= -\\sum_{n = 1}^Nr_nt_n\\phi(x_n) + \\sum_{n = 1}^Nr_n\\textbf{w}^\\textrm{T}\\phi(x_n)\\phi(x_n)^{\\textrm{T}} = 0\n",
    "\\end{align*}\n",
    "\n",
    "Solving for $\\textbf{w}$:\n",
    "\\begin{equation}\n",
    "\\textbf{w}^{*} = \\bigg(\\sum_{n = 1}^Nr_n\\textbf{w}^\\textrm{T}\\phi(x_n)\\phi(x_n)^{\\textrm{T}}\\bigg)^{-1}\\bigg(\\sum_{n = 1}^Nr_nt_n\\phi(x_n)\\bigg)\n",
    "\\end{equation}\n",
    "\n",
    "\n",
    "**An alternative approach, using vectorized notation:**\n",
    "\n",
    "\n",
    "Let there be N data points. And M features per data point.\n",
    "\n",
    "Let us denote the variable we are predicting with **T** which is Nx1 dimensional matrix.\n",
    "\n",
    "The coefficient matrix is denoted by **w** which is MX1 in dimensions. \n",
    "\n",
    "Let us denote these weigths r by a diagonal matrix **R** which is of NxN dimension. For example for 3 data points it would look like\n",
    "\n",
    "\\begin{align*}\n",
    "R = \n",
    "\\begin{bmatrix}\n",
    "r1&0&0\\\\\n",
    "0&r2&0\\\\\n",
    "0&0&r3\\\\\n",
    "\\end{bmatrix}\n",
    "\\end{align*}\n",
    "\n",
    "So, we can write the sum of squares function as\n",
    "\n",
    "\\begin{align*}\n",
    "min : (T - \\phi w)^T R(T-\\phi w)\n",
    "\\end{align*}\n",
    "\n",
    "We can write these equations as :\n",
    "\n",
    "\\begin{align*}\n",
    "min : T^T RT - T^T R\\phi w - w^T \\phi ^T RT + w^T \\phi ^T R\\phi w\n",
    "\\end{align*}\n",
    "\n",
    "Differentiate it w.r.t **w** matrix, we get\n",
    "\n",
    "\\begin{align*}\n",
    "-2\\phi ^T RT + 2\\phi ^T R\\phi w = 0 \\\\\n",
    "w = (\\phi ^T R\\phi)^{-1} \\phi ^T RT\n",
    "\\end{align*}\n",
    "\n",
    "Interpretation : \n",
    "(i) Our assumption is that the errors have constant variance. But if it not true, and error varies with each data point then we can use this scaling factor to make the variance constant. For example, we can set this scaling factor as \n",
    "\n",
    "\\begin{align*}\n",
    "r_i = \\frac{1}{\\sigma_i^2} \n",
    "\\end{align*}\n",
    "\n",
    "If we use this scaling factor, then the variance of each error will become 1, and thus all of them will have same variance."
   ]
  },
  {
   "cell_type": "code",
   "execution_count": null,
   "metadata": {},
   "outputs": [],
   "source": []
  }
 ],
 "metadata": {
  "anaconda-cloud": {},
  "kernelspec": {
   "display_name": "Python 3",
   "language": "python",
   "name": "python3"
  },
  "language_info": {
   "codemirror_mode": {
    "name": "ipython",
    "version": 3
   },
   "file_extension": ".py",
   "mimetype": "text/x-python",
   "name": "python",
   "nbconvert_exporter": "python",
   "pygments_lexer": "ipython3",
   "version": "3.6.5"
  }
 },
 "nbformat": 4,
 "nbformat_minor": 1
}
